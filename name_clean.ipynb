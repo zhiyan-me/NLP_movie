{
 "cells": [
  {
   "cell_type": "code",
   "execution_count": 42,
   "id": "199d5d41-7a92-420f-865d-80262b460215",
   "metadata": {},
   "outputs": [],
   "source": [
    "import pandas as pd\n",
    "import numpy as np"
   ]
  },
  {
   "cell_type": "code",
   "execution_count": 167,
   "id": "3b92921a-5782-4c61-97da-068117b5cc53",
   "metadata": {},
   "outputs": [],
   "source": [
    "data=pd.read_csv(\"data_p.csv\")"
   ]
  },
  {
   "cell_type": "code",
   "execution_count": 168,
   "id": "7991065e-5fc8-4874-ba4b-7319a240b80f",
   "metadata": {},
   "outputs": [
    {
     "data": {
      "text/html": [
       "<div>\n",
       "<style scoped>\n",
       "    .dataframe tbody tr th:only-of-type {\n",
       "        vertical-align: middle;\n",
       "    }\n",
       "\n",
       "    .dataframe tbody tr th {\n",
       "        vertical-align: top;\n",
       "    }\n",
       "\n",
       "    .dataframe thead th {\n",
       "        text-align: right;\n",
       "    }\n",
       "</style>\n",
       "<table border=\"1\" class=\"dataframe\">\n",
       "  <thead>\n",
       "    <tr style=\"text-align: right;\">\n",
       "      <th></th>\n",
       "      <th>Unnamed: 0</th>\n",
       "      <th>sentence</th>\n",
       "      <th>b_per</th>\n",
       "      <th>i_per</th>\n",
       "    </tr>\n",
       "  </thead>\n",
       "  <tbody>\n",
       "    <tr>\n",
       "      <th>0</th>\n",
       "      <td>0</td>\n",
       "      <td>I also heard that at first it was seized by U....</td>\n",
       "      <td>Lena</td>\n",
       "      <td>NaN</td>\n",
       "    </tr>\n",
       "    <tr>\n",
       "      <th>1</th>\n",
       "      <td>1</td>\n",
       "      <td>Even Ingmar Bergman, arguably their answer to ...</td>\n",
       "      <td>Ingmar</td>\n",
       "      <td>Bergman</td>\n",
       "    </tr>\n",
       "    <tr>\n",
       "      <th>2</th>\n",
       "      <td>2</td>\n",
       "      <td>Even Ingmar Bergman, arguably their answer to ...</td>\n",
       "      <td>John</td>\n",
       "      <td>Ford</td>\n",
       "    </tr>\n",
       "    <tr>\n",
       "      <th>3</th>\n",
       "      <td>3</td>\n",
       "      <td>And those pretentious indie movies like The Br...</td>\n",
       "      <td>Vincent</td>\n",
       "      <td>Gallo</td>\n",
       "    </tr>\n",
       "    <tr>\n",
       "      <th>4</th>\n",
       "      <td>4</td>\n",
       "      <td>And those pretentious indie movies like The Br...</td>\n",
       "      <td>Chloe</td>\n",
       "      <td>Sevigny</td>\n",
       "    </tr>\n",
       "    <tr>\n",
       "      <th>5</th>\n",
       "      <td>5</td>\n",
       "      <td>This film was probably inspired by Godard's Ma...</td>\n",
       "      <td>Godard</td>\n",
       "      <td>NaN</td>\n",
       "    </tr>\n",
       "    <tr>\n",
       "      <th>6</th>\n",
       "      <td>6</td>\n",
       "      <td>This film was probably inspired by Godard's Ma...</td>\n",
       "      <td>Masculinéminin</td>\n",
       "      <td>NaN</td>\n",
       "    </tr>\n",
       "    <tr>\n",
       "      <th>7</th>\n",
       "      <td>7</td>\n",
       "      <td>Lena Nyman has to be most annoying actress in ...</td>\n",
       "      <td>Lena</td>\n",
       "      <td>Nyman</td>\n",
       "    </tr>\n",
       "    <tr>\n",
       "      <th>8</th>\n",
       "      <td>8</td>\n",
       "      <td>Comparing to Godard's film, intellectuality ha...</td>\n",
       "      <td>Godard</td>\n",
       "      <td>NaN</td>\n",
       "    </tr>\n",
       "    <tr>\n",
       "      <th>9</th>\n",
       "      <td>9</td>\n",
       "      <td>Oh, brother...after hearing about this ridicul...</td>\n",
       "      <td>Peggy</td>\n",
       "      <td>Lee</td>\n",
       "    </tr>\n",
       "    <tr>\n",
       "      <th>10</th>\n",
       "      <td>10</td>\n",
       "      <td>MILLIONS of people flocked to this stinker, th...</td>\n",
       "      <td>Yeesh</td>\n",
       "      <td>NaN</td>\n",
       "    </tr>\n",
       "    <tr>\n",
       "      <th>11</th>\n",
       "      <td>11</td>\n",
       "      <td>Whoever wrote the screenplay for this movie ob...</td>\n",
       "      <td>Lucille</td>\n",
       "      <td>Ball</td>\n",
       "    </tr>\n",
       "    <tr>\n",
       "      <th>12</th>\n",
       "      <td>12</td>\n",
       "      <td>I've never seen so many mistakes in a biopic, ...</td>\n",
       "      <td>Desi</td>\n",
       "      <td>NaN</td>\n",
       "    </tr>\n",
       "    <tr>\n",
       "      <th>13</th>\n",
       "      <td>13</td>\n",
       "      <td>In all, I believe that Lucille Ball is one of ...</td>\n",
       "      <td>Lucille</td>\n",
       "      <td>Ball</td>\n",
       "    </tr>\n",
       "    <tr>\n",
       "      <th>14</th>\n",
       "      <td>14</td>\n",
       "      <td>If I were Lucie Arnaz and Desi, Jr., I would b...</td>\n",
       "      <td>Lucie</td>\n",
       "      <td>Arnaz</td>\n",
       "    </tr>\n",
       "    <tr>\n",
       "      <th>15</th>\n",
       "      <td>15</td>\n",
       "      <td>If I were Lucie Arnaz and Desi, Jr., I would b...</td>\n",
       "      <td>Desi</td>\n",
       "      <td>NaN</td>\n",
       "    </tr>\n",
       "    <tr>\n",
       "      <th>16</th>\n",
       "      <td>16</td>\n",
       "      <td>If I were Lucie Arnaz and Desi, Jr., I would b...</td>\n",
       "      <td>Jr</td>\n",
       "      <td>NaN</td>\n",
       "    </tr>\n",
       "    <tr>\n",
       "      <th>17</th>\n",
       "      <td>17</td>\n",
       "      <td>If I were Lucie Arnaz and Desi, Jr., I would b...</td>\n",
       "      <td>.</td>\n",
       "      <td>NaN</td>\n",
       "    </tr>\n",
       "    <tr>\n",
       "      <th>18</th>\n",
       "      <td>18</td>\n",
       "      <td>When I first saw a glimpse of this movie, I qu...</td>\n",
       "      <td>Lucille</td>\n",
       "      <td>Ball</td>\n",
       "    </tr>\n",
       "    <tr>\n",
       "      <th>19</th>\n",
       "      <td>19</td>\n",
       "      <td>Rachel York's portrayal of Lucy is absolutely ...</td>\n",
       "      <td>Rachel</td>\n",
       "      <td>York</td>\n",
       "    </tr>\n",
       "  </tbody>\n",
       "</table>\n",
       "</div>"
      ],
      "text/plain": [
       "    Unnamed: 0                                           sentence  \\\n",
       "0            0  I also heard that at first it was seized by U....   \n",
       "1            1  Even Ingmar Bergman, arguably their answer to ...   \n",
       "2            2  Even Ingmar Bergman, arguably their answer to ...   \n",
       "3            3  And those pretentious indie movies like The Br...   \n",
       "4            4  And those pretentious indie movies like The Br...   \n",
       "5            5  This film was probably inspired by Godard's Ma...   \n",
       "6            6  This film was probably inspired by Godard's Ma...   \n",
       "7            7  Lena Nyman has to be most annoying actress in ...   \n",
       "8            8  Comparing to Godard's film, intellectuality ha...   \n",
       "9            9  Oh, brother...after hearing about this ridicul...   \n",
       "10          10  MILLIONS of people flocked to this stinker, th...   \n",
       "11          11  Whoever wrote the screenplay for this movie ob...   \n",
       "12          12  I've never seen so many mistakes in a biopic, ...   \n",
       "13          13  In all, I believe that Lucille Ball is one of ...   \n",
       "14          14  If I were Lucie Arnaz and Desi, Jr., I would b...   \n",
       "15          15  If I were Lucie Arnaz and Desi, Jr., I would b...   \n",
       "16          16  If I were Lucie Arnaz and Desi, Jr., I would b...   \n",
       "17          17  If I were Lucie Arnaz and Desi, Jr., I would b...   \n",
       "18          18  When I first saw a glimpse of this movie, I qu...   \n",
       "19          19  Rachel York's portrayal of Lucy is absolutely ...   \n",
       "\n",
       "             b_per    i_per  \n",
       "0             Lena      NaN  \n",
       "1           Ingmar  Bergman  \n",
       "2             John     Ford  \n",
       "3          Vincent    Gallo  \n",
       "4            Chloe  Sevigny  \n",
       "5           Godard      NaN  \n",
       "6   Masculinéminin      NaN  \n",
       "7             Lena    Nyman  \n",
       "8           Godard      NaN  \n",
       "9            Peggy      Lee  \n",
       "10           Yeesh      NaN  \n",
       "11         Lucille     Ball  \n",
       "12            Desi      NaN  \n",
       "13         Lucille     Ball  \n",
       "14           Lucie    Arnaz  \n",
       "15            Desi      NaN  \n",
       "16              Jr      NaN  \n",
       "17               .      NaN  \n",
       "18         Lucille     Ball  \n",
       "19          Rachel     York  "
      ]
     },
     "execution_count": 168,
     "metadata": {},
     "output_type": "execute_result"
    }
   ],
   "source": [
    "data.head(20)"
   ]
  },
  {
   "cell_type": "markdown",
   "id": "a2960e33-4e49-407c-b90e-d3742980a513",
   "metadata": {},
   "source": [
    "CLEAN"
   ]
  },
  {
   "cell_type": "code",
   "execution_count": 169,
   "id": "98801a84-a2df-4482-8ca7-676d9f21cdd5",
   "metadata": {},
   "outputs": [
    {
     "data": {
      "text/plain": [
       "Unnamed: 0        0\n",
       "sentence          0\n",
       "b_per          6266\n",
       "i_per         83502\n",
       "dtype: int64"
      ]
     },
     "execution_count": 169,
     "metadata": {},
     "output_type": "execute_result"
    }
   ],
   "source": [
    "data.isnull().sum()"
   ]
  },
  {
   "cell_type": "code",
   "execution_count": 170,
   "id": "c503241f-1505-4b11-9b04-179deccefbec",
   "metadata": {},
   "outputs": [
    {
     "data": {
      "text/plain": [
       "0"
      ]
     },
     "execution_count": 170,
     "metadata": {},
     "output_type": "execute_result"
    }
   ],
   "source": [
    "(data['b_per']==np.nan).sum()"
   ]
  },
  {
   "cell_type": "code",
   "execution_count": 171,
   "id": "b574f862-cf20-43b6-8e85-703f4ae8ab69",
   "metadata": {},
   "outputs": [
    {
     "name": "stdout",
     "output_type": "stream",
     "text": [
      "6266\n"
     ]
    }
   ],
   "source": [
    "# Check for both NaN and empty string\n",
    "missing_count = (data['b_per'].isnull() | (data['b_per'] == \"\")).sum()\n",
    "print(missing_count)\n"
   ]
  },
  {
   "cell_type": "code",
   "execution_count": 172,
   "id": "d714ba44-5c25-4401-9d00-bdcfafe25f2b",
   "metadata": {},
   "outputs": [],
   "source": [
    "data = data.drop(data.columns[0], axis=1)"
   ]
  },
  {
   "cell_type": "code",
   "execution_count": 173,
   "id": "c9842e59-a04c-4ad8-9aeb-2580c85e077d",
   "metadata": {},
   "outputs": [
    {
     "name": "stdout",
     "output_type": "stream",
     "text": [
      "<class 'pandas.core.frame.DataFrame'>\n",
      "RangeIndex: 160908 entries, 0 to 160907\n",
      "Data columns (total 3 columns):\n",
      " #   Column    Non-Null Count   Dtype \n",
      "---  ------    --------------   ----- \n",
      " 0   sentence  160908 non-null  object\n",
      " 1   b_per     154642 non-null  object\n",
      " 2   i_per     77406 non-null   object\n",
      "dtypes: object(3)\n",
      "memory usage: 3.7+ MB\n"
     ]
    }
   ],
   "source": [
    "data.info()"
   ]
  },
  {
   "cell_type": "code",
   "execution_count": 197,
   "id": "2acefc1e-4e41-4d05-afe6-9cc682a4ba61",
   "metadata": {},
   "outputs": [],
   "source": [
    "import re\n",
    "def clean_name(text):\n",
    "    if not isinstance(text, str):\n",
    "        return text\n",
    "    text = text.replace(\".\", \"\")\n",
    "    text = text.replace(\"Jr\",\"\")\n",
    "    text = text.replace(\"-\", \"\")\n",
    "    text = text.replace(\"'\", \"\")\n",
    "    text = text.replace('\"', \"\")\n",
    "    text = re.sub(r'[^a-zA-Z]', '', text)\n",
    "    text = re.sub(r'\\b[A-Z]\\b', '', text)\n",
    "    text = re.sub(r'\\b[a-z]\\b', '', text)\n",
    "    text = re.sub(r'[A-Z]{2,}', '', text)\n",
    "    \n",
    "  \n",
    "    return text"
   ]
  },
  {
   "cell_type": "code",
   "execution_count": 198,
   "id": "c0a89e0f-b8f1-4c79-859a-699c96e1e70b",
   "metadata": {},
   "outputs": [],
   "source": [
    "data['b_per'] = data['b_per'].apply(lambda x:clean_name(x))\n",
    "data['i_per'] = data['i_per'].apply(lambda x:clean_name(x))"
   ]
  },
  {
   "cell_type": "code",
   "execution_count": 199,
   "id": "df9ef76e-3353-4c23-9f62-971f01c03130",
   "metadata": {},
   "outputs": [],
   "source": [
    "data.replace(\"\", np.nan, inplace=True)"
   ]
  },
  {
   "cell_type": "code",
   "execution_count": 200,
   "id": "b2b58755-e85c-41a4-8f6c-baddf7b52b05",
   "metadata": {},
   "outputs": [],
   "source": [
    "data_cleaned = data.dropna(subset=['b_per', 'i_per'], how='all')\n"
   ]
  },
  {
   "cell_type": "code",
   "execution_count": 201,
   "id": "659c00a3-6edb-4f08-8a21-86ed849f857c",
   "metadata": {},
   "outputs": [
    {
     "data": {
      "text/html": [
       "<div>\n",
       "<style scoped>\n",
       "    .dataframe tbody tr th:only-of-type {\n",
       "        vertical-align: middle;\n",
       "    }\n",
       "\n",
       "    .dataframe tbody tr th {\n",
       "        vertical-align: top;\n",
       "    }\n",
       "\n",
       "    .dataframe thead th {\n",
       "        text-align: right;\n",
       "    }\n",
       "</style>\n",
       "<table border=\"1\" class=\"dataframe\">\n",
       "  <thead>\n",
       "    <tr style=\"text-align: right;\">\n",
       "      <th></th>\n",
       "      <th>sentence</th>\n",
       "      <th>b_per</th>\n",
       "      <th>i_per</th>\n",
       "    </tr>\n",
       "  </thead>\n",
       "  <tbody>\n",
       "    <tr>\n",
       "      <th>0</th>\n",
       "      <td>I also heard that at first it was seized by U....</td>\n",
       "      <td>Lena</td>\n",
       "      <td>NaN</td>\n",
       "    </tr>\n",
       "    <tr>\n",
       "      <th>1</th>\n",
       "      <td>Even Ingmar Bergman, arguably their answer to ...</td>\n",
       "      <td>Ingmar</td>\n",
       "      <td>Bergman</td>\n",
       "    </tr>\n",
       "    <tr>\n",
       "      <th>2</th>\n",
       "      <td>Even Ingmar Bergman, arguably their answer to ...</td>\n",
       "      <td>John</td>\n",
       "      <td>Ford</td>\n",
       "    </tr>\n",
       "    <tr>\n",
       "      <th>3</th>\n",
       "      <td>And those pretentious indie movies like The Br...</td>\n",
       "      <td>Vincent</td>\n",
       "      <td>Gallo</td>\n",
       "    </tr>\n",
       "    <tr>\n",
       "      <th>4</th>\n",
       "      <td>And those pretentious indie movies like The Br...</td>\n",
       "      <td>Chloe</td>\n",
       "      <td>Sevigny</td>\n",
       "    </tr>\n",
       "    <tr>\n",
       "      <th>5</th>\n",
       "      <td>This film was probably inspired by Godard's Ma...</td>\n",
       "      <td>Godard</td>\n",
       "      <td>NaN</td>\n",
       "    </tr>\n",
       "    <tr>\n",
       "      <th>6</th>\n",
       "      <td>This film was probably inspired by Godard's Ma...</td>\n",
       "      <td>Masculinminin</td>\n",
       "      <td>NaN</td>\n",
       "    </tr>\n",
       "    <tr>\n",
       "      <th>7</th>\n",
       "      <td>Lena Nyman has to be most annoying actress in ...</td>\n",
       "      <td>Lena</td>\n",
       "      <td>Nyman</td>\n",
       "    </tr>\n",
       "    <tr>\n",
       "      <th>8</th>\n",
       "      <td>Comparing to Godard's film, intellectuality ha...</td>\n",
       "      <td>Godard</td>\n",
       "      <td>NaN</td>\n",
       "    </tr>\n",
       "    <tr>\n",
       "      <th>9</th>\n",
       "      <td>Oh, brother...after hearing about this ridicul...</td>\n",
       "      <td>Peggy</td>\n",
       "      <td>Lee</td>\n",
       "    </tr>\n",
       "    <tr>\n",
       "      <th>10</th>\n",
       "      <td>MILLIONS of people flocked to this stinker, th...</td>\n",
       "      <td>Yeesh</td>\n",
       "      <td>NaN</td>\n",
       "    </tr>\n",
       "    <tr>\n",
       "      <th>11</th>\n",
       "      <td>Whoever wrote the screenplay for this movie ob...</td>\n",
       "      <td>Lucille</td>\n",
       "      <td>Ball</td>\n",
       "    </tr>\n",
       "    <tr>\n",
       "      <th>12</th>\n",
       "      <td>I've never seen so many mistakes in a biopic, ...</td>\n",
       "      <td>Desi</td>\n",
       "      <td>NaN</td>\n",
       "    </tr>\n",
       "    <tr>\n",
       "      <th>13</th>\n",
       "      <td>In all, I believe that Lucille Ball is one of ...</td>\n",
       "      <td>Lucille</td>\n",
       "      <td>Ball</td>\n",
       "    </tr>\n",
       "    <tr>\n",
       "      <th>14</th>\n",
       "      <td>If I were Lucie Arnaz and Desi, Jr., I would b...</td>\n",
       "      <td>Lucie</td>\n",
       "      <td>Arnaz</td>\n",
       "    </tr>\n",
       "    <tr>\n",
       "      <th>15</th>\n",
       "      <td>If I were Lucie Arnaz and Desi, Jr., I would b...</td>\n",
       "      <td>Desi</td>\n",
       "      <td>NaN</td>\n",
       "    </tr>\n",
       "    <tr>\n",
       "      <th>18</th>\n",
       "      <td>When I first saw a glimpse of this movie, I qu...</td>\n",
       "      <td>Lucille</td>\n",
       "      <td>Ball</td>\n",
       "    </tr>\n",
       "    <tr>\n",
       "      <th>19</th>\n",
       "      <td>Rachel York's portrayal of Lucy is absolutely ...</td>\n",
       "      <td>Rachel</td>\n",
       "      <td>York</td>\n",
       "    </tr>\n",
       "    <tr>\n",
       "      <th>20</th>\n",
       "      <td>Rachel York's portrayal of Lucy is absolutely ...</td>\n",
       "      <td>Lucy</td>\n",
       "      <td>NaN</td>\n",
       "    </tr>\n",
       "    <tr>\n",
       "      <th>21</th>\n",
       "      <td>Lucille Ball was an astounding comedian with i...</td>\n",
       "      <td>Lucille</td>\n",
       "      <td>Ball</td>\n",
       "    </tr>\n",
       "  </tbody>\n",
       "</table>\n",
       "</div>"
      ],
      "text/plain": [
       "                                             sentence          b_per    i_per\n",
       "0   I also heard that at first it was seized by U....           Lena      NaN\n",
       "1   Even Ingmar Bergman, arguably their answer to ...         Ingmar  Bergman\n",
       "2   Even Ingmar Bergman, arguably their answer to ...           John     Ford\n",
       "3   And those pretentious indie movies like The Br...        Vincent    Gallo\n",
       "4   And those pretentious indie movies like The Br...          Chloe  Sevigny\n",
       "5   This film was probably inspired by Godard's Ma...         Godard      NaN\n",
       "6   This film was probably inspired by Godard's Ma...  Masculinminin      NaN\n",
       "7   Lena Nyman has to be most annoying actress in ...           Lena    Nyman\n",
       "8   Comparing to Godard's film, intellectuality ha...         Godard      NaN\n",
       "9   Oh, brother...after hearing about this ridicul...          Peggy      Lee\n",
       "10  MILLIONS of people flocked to this stinker, th...          Yeesh      NaN\n",
       "11  Whoever wrote the screenplay for this movie ob...        Lucille     Ball\n",
       "12  I've never seen so many mistakes in a biopic, ...           Desi      NaN\n",
       "13  In all, I believe that Lucille Ball is one of ...        Lucille     Ball\n",
       "14  If I were Lucie Arnaz and Desi, Jr., I would b...          Lucie    Arnaz\n",
       "15  If I were Lucie Arnaz and Desi, Jr., I would b...           Desi      NaN\n",
       "18  When I first saw a glimpse of this movie, I qu...        Lucille     Ball\n",
       "19  Rachel York's portrayal of Lucy is absolutely ...         Rachel     York\n",
       "20  Rachel York's portrayal of Lucy is absolutely ...           Lucy      NaN\n",
       "21  Lucille Ball was an astounding comedian with i...        Lucille     Ball"
      ]
     },
     "execution_count": 201,
     "metadata": {},
     "output_type": "execute_result"
    }
   ],
   "source": [
    "data_cleaned.head(20)"
   ]
  },
  {
   "cell_type": "code",
   "execution_count": 212,
   "id": "7388da65-d4c5-4cd7-9c0d-d7111dba4fc8",
   "metadata": {},
   "outputs": [
    {
     "data": {
      "text/plain": [
       "sentence        0\n",
       "b_per           0\n",
       "i_per       82586\n",
       "dtype: int64"
      ]
     },
     "execution_count": 212,
     "metadata": {},
     "output_type": "execute_result"
    }
   ],
   "source": [
    "data_cleaned.isnull().sum()"
   ]
  },
  {
   "cell_type": "code",
   "execution_count": 185,
   "id": "ef4d7875-fa33-4c3c-844d-d60f2f2c8890",
   "metadata": {},
   "outputs": [],
   "source": [
    "def imput_name(text):\n",
    "    text = text.replace(\".\", \"\")\n",
    "    text = text.replace(\"Jr\",\"\")\n",
    "    text = text.replace(\"-\", \"\")\n",
    "    text = text.replace(\"'\", \"\")\n",
    "    text = re.sub(r'\\b[A-Z]\\b', '', text)\n",
    "    return text"
   ]
  },
  {
   "cell_type": "code",
   "execution_count": 203,
   "id": "513265f5-e88f-4426-95ea-6f6bc11916a3",
   "metadata": {},
   "outputs": [],
   "source": [
    "data_sorted = data_cleaned.sort_values(by='b_per', ascending=True)"
   ]
  },
  {
   "cell_type": "code",
   "execution_count": 187,
   "id": "6ecd5e53-a5c2-45c4-adde-232e4c66618c",
   "metadata": {},
   "outputs": [],
   "source": [
    "grouped_data = data_cleaned.groupby('b_per')"
   ]
  },
  {
   "cell_type": "code",
   "execution_count": 206,
   "id": "86b7bbfa-69cb-44df-8c2c-92e6a4efe73b",
   "metadata": {},
   "outputs": [
    {
     "data": {
      "text/html": [
       "<div>\n",
       "<style scoped>\n",
       "    .dataframe tbody tr th:only-of-type {\n",
       "        vertical-align: middle;\n",
       "    }\n",
       "\n",
       "    .dataframe tbody tr th {\n",
       "        vertical-align: top;\n",
       "    }\n",
       "\n",
       "    .dataframe thead th {\n",
       "        text-align: right;\n",
       "    }\n",
       "</style>\n",
       "<table border=\"1\" class=\"dataframe\">\n",
       "  <thead>\n",
       "    <tr style=\"text-align: right;\">\n",
       "      <th></th>\n",
       "      <th>sentence</th>\n",
       "      <th>b_per</th>\n",
       "      <th>i_per</th>\n",
       "    </tr>\n",
       "  </thead>\n",
       "  <tbody>\n",
       "    <tr>\n",
       "      <th>5846</th>\n",
       "      <td>Aaargh), but the fact that the raw material is...</td>\n",
       "      <td>Aaargh</td>\n",
       "      <td>Grisham</td>\n",
       "    </tr>\n",
       "    <tr>\n",
       "      <th>33907</th>\n",
       "      <td>I cannot say that Aag is the worst Bollywood f...</td>\n",
       "      <td>Aag</td>\n",
       "      <td>NaN</td>\n",
       "    </tr>\n",
       "    <tr>\n",
       "      <th>90638</th>\n",
       "      <td>And if you valued music more than story the li...</td>\n",
       "      <td>Aag</td>\n",
       "      <td>Naam</td>\n",
       "    </tr>\n",
       "    <tr>\n",
       "      <th>33790</th>\n",
       "      <td>What Aag does is take these characters and mes...</td>\n",
       "      <td>Aag</td>\n",
       "      <td>NaN</td>\n",
       "    </tr>\n",
       "    <tr>\n",
       "      <th>33689</th>\n",
       "      <td>Enough of stupid characters in your movie like...</td>\n",
       "      <td>Aag</td>\n",
       "      <td>NaN</td>\n",
       "    </tr>\n",
       "  </tbody>\n",
       "</table>\n",
       "</div>"
      ],
      "text/plain": [
       "                                                sentence   b_per    i_per\n",
       "5846   Aaargh), but the fact that the raw material is...  Aaargh  Grisham\n",
       "33907  I cannot say that Aag is the worst Bollywood f...     Aag      NaN\n",
       "90638  And if you valued music more than story the li...     Aag     Naam\n",
       "33790  What Aag does is take these characters and mes...     Aag      NaN\n",
       "33689  Enough of stupid characters in your movie like...     Aag      NaN"
      ]
     },
     "execution_count": 206,
     "metadata": {},
     "output_type": "execute_result"
    }
   ],
   "source": [
    "data_sorted.head()"
   ]
  },
  {
   "cell_type": "code",
   "execution_count": 192,
   "id": "8e497c48-f1e9-4e7f-b5de-c710e84ba70a",
   "metadata": {},
   "outputs": [
    {
     "data": {
      "text/html": [
       "<div>\n",
       "<style scoped>\n",
       "    .dataframe tbody tr th:only-of-type {\n",
       "        vertical-align: middle;\n",
       "    }\n",
       "\n",
       "    .dataframe tbody tr th {\n",
       "        vertical-align: top;\n",
       "    }\n",
       "\n",
       "    .dataframe thead th {\n",
       "        text-align: right;\n",
       "    }\n",
       "</style>\n",
       "<table border=\"1\" class=\"dataframe\">\n",
       "  <thead>\n",
       "    <tr style=\"text-align: right;\">\n",
       "      <th></th>\n",
       "      <th>sentence</th>\n",
       "      <th>b_per</th>\n",
       "      <th>i_per</th>\n",
       "    </tr>\n",
       "  </thead>\n",
       "  <tbody>\n",
       "    <tr>\n",
       "      <th>count</th>\n",
       "      <td>157492</td>\n",
       "      <td>149647</td>\n",
       "      <td>77406</td>\n",
       "    </tr>\n",
       "    <tr>\n",
       "      <th>unique</th>\n",
       "      <td>83773</td>\n",
       "      <td>16358</td>\n",
       "      <td>13376</td>\n",
       "    </tr>\n",
       "    <tr>\n",
       "      <th>top</th>\n",
       "      <td>\"Kalifornia\"is a great film that makes us look...</td>\n",
       "      <td>John</td>\n",
       "      <td>.</td>\n",
       "    </tr>\n",
       "    <tr>\n",
       "      <th>freq</th>\n",
       "      <td>42</td>\n",
       "      <td>2022</td>\n",
       "      <td>916</td>\n",
       "    </tr>\n",
       "  </tbody>\n",
       "</table>\n",
       "</div>"
      ],
      "text/plain": [
       "                                                 sentence   b_per  i_per\n",
       "count                                              157492  149647  77406\n",
       "unique                                              83773   16358  13376\n",
       "top     \"Kalifornia\"is a great film that makes us look...    John      .\n",
       "freq                                                   42    2022    916"
      ]
     },
     "execution_count": 192,
     "metadata": {},
     "output_type": "execute_result"
    }
   ],
   "source": [
    "data_sorted.describe()"
   ]
  },
  {
   "cell_type": "code",
   "execution_count": 210,
   "id": "8f20d22f-fba4-422a-a00e-25779851aea7",
   "metadata": {},
   "outputs": [],
   "source": [
    "data_sorted.to_csv(\"data_cleaned.csv\")"
   ]
  },
  {
   "cell_type": "code",
   "execution_count": 204,
   "id": "d8dc78c7-fc2d-4f8b-a65b-7f275a0fc856",
   "metadata": {},
   "outputs": [],
   "source": [
    "data_sorted_2 = data_cleaned.sort_values(by='i_per', ascending=True)"
   ]
  },
  {
   "cell_type": "code",
   "execution_count": 193,
   "id": "283a311e-6857-4209-8119-568231fdbfcc",
   "metadata": {},
   "outputs": [],
   "source": [
    "data['i_per'] = data['i_per'].apply(lambda x:clean_name(x))"
   ]
  },
  {
   "cell_type": "code",
   "execution_count": 209,
   "id": "4656ebc7-d1ed-4f9f-b6e5-9a02dafe8673",
   "metadata": {},
   "outputs": [],
   "source": [
    "data_sorted_2.to_csv(\"data_cleaned_2.csv\")"
   ]
  },
  {
   "cell_type": "code",
   "execution_count": 205,
   "id": "cfb07247-47a1-4ab7-9700-343a8bbd1f86",
   "metadata": {},
   "outputs": [
    {
     "data": {
      "text/html": [
       "<div>\n",
       "<style scoped>\n",
       "    .dataframe tbody tr th:only-of-type {\n",
       "        vertical-align: middle;\n",
       "    }\n",
       "\n",
       "    .dataframe tbody tr th {\n",
       "        vertical-align: top;\n",
       "    }\n",
       "\n",
       "    .dataframe thead th {\n",
       "        text-align: right;\n",
       "    }\n",
       "</style>\n",
       "<table border=\"1\" class=\"dataframe\">\n",
       "  <thead>\n",
       "    <tr style=\"text-align: right;\">\n",
       "      <th></th>\n",
       "      <th>sentence</th>\n",
       "      <th>b_per</th>\n",
       "      <th>i_per</th>\n",
       "    </tr>\n",
       "  </thead>\n",
       "  <tbody>\n",
       "    <tr>\n",
       "      <th>72336</th>\n",
       "      <td>Milan Abhi Aada Adhura Hai is also nice in wat...</td>\n",
       "      <td>Milan</td>\n",
       "      <td>Aada</td>\n",
       "    </tr>\n",
       "    <tr>\n",
       "      <th>33700</th>\n",
       "      <td>I can't come up with appropriate enough words ...</td>\n",
       "      <td>NaN</td>\n",
       "      <td>Aag</td>\n",
       "    </tr>\n",
       "    <tr>\n",
       "      <th>33707</th>\n",
       "      <td>Ramgopal Varma Ki Aag is actually a mockery of...</td>\n",
       "      <td>NaN</td>\n",
       "      <td>Aag</td>\n",
       "    </tr>\n",
       "    <tr>\n",
       "      <th>33716</th>\n",
       "      <td>How you wish he'd pulled the trigger and spare...</td>\n",
       "      <td>NaN</td>\n",
       "      <td>Aag</td>\n",
       "    </tr>\n",
       "    <tr>\n",
       "      <th>33745</th>\n",
       "      <td>Ramgopal Varma Ki Aag is his worst career deci...</td>\n",
       "      <td>NaN</td>\n",
       "      <td>Aag</td>\n",
       "    </tr>\n",
       "  </tbody>\n",
       "</table>\n",
       "</div>"
      ],
      "text/plain": [
       "                                                sentence  b_per i_per\n",
       "72336  Milan Abhi Aada Adhura Hai is also nice in wat...  Milan  Aada\n",
       "33700  I can't come up with appropriate enough words ...    NaN   Aag\n",
       "33707  Ramgopal Varma Ki Aag is actually a mockery of...    NaN   Aag\n",
       "33716  How you wish he'd pulled the trigger and spare...    NaN   Aag\n",
       "33745  Ramgopal Varma Ki Aag is his worst career deci...    NaN   Aag"
      ]
     },
     "execution_count": 205,
     "metadata": {},
     "output_type": "execute_result"
    }
   ],
   "source": [
    "data_sorted_2.head()"
   ]
  },
  {
   "cell_type": "code",
   "execution_count": 211,
   "id": "92129e8b-47a1-45bb-a5ef-6a59b8eb2248",
   "metadata": {},
   "outputs": [],
   "source": [
    "data_cleaned = data.dropna(subset=['b_per'])"
   ]
  },
  {
   "cell_type": "code",
   "execution_count": 214,
   "id": "06be1ed9-4c34-48ed-9f54-9c96222947b8",
   "metadata": {},
   "outputs": [],
   "source": [
    "data_cleaned.to_csv(\"data_cleaned_3.csv\")"
   ]
  },
  {
   "cell_type": "code",
   "execution_count": 215,
   "id": "a30812c7-2eb7-4a5d-ae69-cc8c668ce9a3",
   "metadata": {},
   "outputs": [
    {
     "name": "stdout",
     "output_type": "stream",
     "text": [
      "<class 'pandas.core.frame.DataFrame'>\n",
      "Index: 149629 entries, 0 to 160907\n",
      "Data columns (total 3 columns):\n",
      " #   Column    Non-Null Count   Dtype \n",
      "---  ------    --------------   ----- \n",
      " 0   sentence  149629 non-null  object\n",
      " 1   b_per     149629 non-null  object\n",
      " 2   i_per     67043 non-null   object\n",
      "dtypes: object(3)\n",
      "memory usage: 4.6+ MB\n"
     ]
    }
   ],
   "source": [
    "data_cleaned.info()"
   ]
  },
  {
   "cell_type": "code",
   "execution_count": null,
   "id": "c27ba2d2-16f8-4315-801c-5a140082248f",
   "metadata": {},
   "outputs": [],
   "source": []
  }
 ],
 "metadata": {
  "kernelspec": {
   "display_name": "Python 3 (ipykernel)",
   "language": "python",
   "name": "python3"
  },
  "language_info": {
   "codemirror_mode": {
    "name": "ipython",
    "version": 3
   },
   "file_extension": ".py",
   "mimetype": "text/x-python",
   "name": "python",
   "nbconvert_exporter": "python",
   "pygments_lexer": "ipython3",
   "version": "3.12.7"
  }
 },
 "nbformat": 4,
 "nbformat_minor": 5
}
